{
 "cells": [
  {
   "cell_type": "code",
   "execution_count": null,
   "id": "d20060fe-e0d8-4879-a9a7-a9a13239cbdc",
   "metadata": {},
   "outputs": [
    {
     "name": "stdout",
     "output_type": "stream",
     "text": [
      "Cредняя стоимость дома, где кол-во людей от 0 до 500 (population): 206683.83635227982\n",
      "Mаксимальная households в зоне минимального значения population = 1.0\n"
     ]
    }
   ],
   "source": [
    "import pandas as pd\n",
    "df = pd.read_csv('california_housing_train.csv')\n",
    "\n",
    "# Задача 40: Работать с файлом california_housing_train.csv, который находится в папке sample_data.\n",
    "# Определить среднюю стоимость дома, где кол-во людей от 0 до 500 (population).\n",
    "\n",
    "mean = df.loc[df['population'] < 500]['median_house_value'].mean()\n",
    "print(f'Cредняя стоимость дома, где кол-во людей от 0 до 500 (population): {mean}')\n",
    "\n",
    "# Задача 42: Узнать какая максимальная households в зоне минимального значения population.\n",
    "\n",
    "print(f'Mаксимальная households в зоне минимального значения population = {df.describe().min().households}')\n"
   ]
  }
 ],
 "metadata": {
  "kernelspec": {
   "display_name": "Python 3 (ipykernel)",
   "language": "python",
   "name": "python3"
  },
  "language_info": {
   "codemirror_mode": {
    "name": "ipython",
    "version": 3
   },
   "file_extension": ".py",
   "mimetype": "text/x-python",
   "name": "python",
   "nbconvert_exporter": "python",
   "pygments_lexer": "ipython3",
   "version": "3.10.9"
  }
 },
 "nbformat": 4,
 "nbformat_minor": 5
}
